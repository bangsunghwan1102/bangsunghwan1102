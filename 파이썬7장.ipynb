{
  "nbformat": 4,
  "nbformat_minor": 0,
  "metadata": {
    "colab": {
      "name": "파이썬7장.ipynb",
      "provenance": [],
      "collapsed_sections": [],
      "authorship_tag": "ABX9TyMs+4+i570udcyj9y2ipnrH",
      "include_colab_link": true
    },
    "kernelspec": {
      "name": "python3",
      "display_name": "Python 3"
    },
    "language_info": {
      "name": "python"
    }
  },
  "cells": [
    {
      "cell_type": "markdown",
      "metadata": {
        "id": "view-in-github",
        "colab_type": "text"
      },
      "source": [
        "<a href=\"https://colab.research.google.com/github/bangsunghwan1102/bangsunghwan1102/blob/main/%ED%8C%8C%EC%9D%B4%EC%8D%AC7%EC%9E%A5.ipynb\" target=\"_parent\"><img src=\"https://colab.research.google.com/assets/colab-badge.svg\" alt=\"Open In Colab\"/></a>"
      ]
    },
    {
      "cell_type": "markdown",
      "source": [
        "도전문제"
      ],
      "metadata": {
        "id": "UZCSRq5pZyvV"
      }
    },
    {
      "cell_type": "code",
      "execution_count": null,
      "metadata": {
        "id": "oDXMsYJJZtsO"
      },
      "outputs": [],
      "source": [
        "import turtle as t   #육각형 문제\n",
        "t.shape(\"turtle\")\n",
        "\n",
        "def hexagon(length):  #length를 매개변수로 받는 함수\n",
        "    for i in range(6):  #6번 반복한다\n",
        "        t.fd(length) #앞으로 length만큼\n",
        "        t.lt(60) #왼쪽으로 60도만큼 돈다\n",
        "        \n",
        "hexagon(100) #인수가 100인 함수를 호출한다"
      ]
    },
    {
      "cell_type": "code",
      "source": [
        "import turtle as t #n각형 문제\n",
        "t.shape(\"turtle\")\n",
        "\n",
        "def hexagon(length,angle):   #length와 angle을 매개변수로 받는 함수\n",
        "    for i in range(angle):  #angle번 만큼 반복\n",
        "        t.fd(length)   #length만큼 앞으로\n",
        "        t.lt(360/angle)  #왼쪽으로 360/angle 만큼 돈다\n",
        "        \n",
        "hexagon(100,10)   #인수가 100, 10 인 함수를 호출 "
      ],
      "metadata": {
        "id": "TviRq1qQZ2UE"
      },
      "execution_count": null,
      "outputs": []
    },
    {
      "cell_type": "markdown",
      "source": [
        "연습문제"
      ],
      "metadata": {
        "id": "Vly3uK7waEvk"
      }
    },
    {
      "cell_type": "code",
      "source": [
        "import turtle as t #1번\n",
        "t.shape(\"turtle\")  # 모양은 거북이모양\n",
        "\n",
        "s=t.Screen()\n",
        "s.bgcolor(\"skyblue\")\n",
        "\n",
        "def draw_snowman(x,y):\n",
        "    t.up()\n",
        "    t.goto(x,y)\n",
        "    t.down()\n",
        "    t.fillcolor('white')\n",
        "    t.begin_fill()\n",
        "    t.circle(30)\n",
        "    t.end_fill()\n",
        "    t.up()\n",
        "    t.rt(90)\n",
        "    t.fd(40)\n",
        "    t.lt(90)\n",
        "    t.down()\n",
        "    t.lt(30)\n",
        "    t.fd(80)\n",
        "    t.fd(-80)\n",
        "    t.lt(100)\n",
        "    t.fd(80)\n",
        "    t.fd(-80)\n",
        "    t.rt(130)\n",
        "    t.begin_fill()\n",
        "    t.circle(23)\n",
        "    t.end_fill()\n",
        "    t.up()\n",
        "    t.rt(90)\n",
        "    t.fd(80)\n",
        "    t.lt(90)\n",
        "    t.down()\n",
        "    t.begin_fill()\n",
        "    t.circle(50)\n",
        "    t.end_fill()\n",
        "    \n",
        "    \n",
        "draw_snowman(-150,0)\n",
        "draw_snowman(0,0)\n",
        "draw_snowman(150,0)"
      ],
      "metadata": {
        "id": "Q5OzIXk_Z2WA"
      },
      "execution_count": null,
      "outputs": []
    },
    {
      "cell_type": "code",
      "source": [
        "import turtle as t #2번\n",
        "t.shape(\"turtle\")\n",
        "\n",
        "def hexagon():\n",
        "    for i in range(6):\n",
        "        t.fd(100)\n",
        "        t.lt(60)\n",
        "for i in range(6):\n",
        "    t.fd(100)\n",
        "    t.rt(60)\n",
        "    hexagon()"
      ],
      "metadata": {
        "id": "c4ocxXxdZ2Ye"
      },
      "execution_count": null,
      "outputs": []
    },
    {
      "cell_type": "code",
      "source": [
        "import turtle as t  #3번\n",
        "t.shape('turtle')\n",
        "\n",
        "t.fd(300)\n",
        "t.fd(-300)\n",
        "t.lt(90)\n",
        "t.fd(300)\n",
        "t.fd(-300)\n",
        "t.rt(90)\n",
        "\n",
        "def fx():\n",
        "    for x in range(150):\n",
        "        t.goto(x,(x**2+1)*0.01)\n",
        "fx()"
      ],
      "metadata": {
        "id": "KmfWk_dNZ2ay"
      },
      "execution_count": null,
      "outputs": []
    },
    {
      "cell_type": "code",
      "source": [
        "import turtle as t   #4번\n",
        "t.shape(\"turtle\")\n",
        "\n",
        "def draw_line():\n",
        "    t.fd(100)\n",
        "    t.fd(-100)\n",
        "for i in range(12):\n",
        "    draw_line()\n",
        "    t.rt(30)"
      ],
      "metadata": {
        "id": "O8QCpBsFZ2c3"
      },
      "execution_count": null,
      "outputs": []
    },
    {
      "cell_type": "code",
      "source": [
        "def happyBirthday(name):  #5번\n",
        "  print(\"Happy Birthday to you!\")\n",
        "  print(\"Happy Birthday to you!\")\n",
        "  print(\"Happy Birthday, dear\",name)\n",
        "  print(\"Happy Birthday to you!\")\n",
        "happyBirthday('홍길동')"
      ],
      "metadata": {
        "colab": {
          "base_uri": "https://localhost:8080/"
        },
        "id": "2g9BPQxBZ2fL",
        "outputId": "6e716f0a-cb1f-4bb9-94b3-45af70834e08"
      },
      "execution_count": null,
      "outputs": [
        {
          "output_type": "stream",
          "name": "stdout",
          "text": [
            "Happy Birthday to you!\n",
            "Happy Birthday to you!\n",
            "Happy Birthday, dear 홍길동\n",
            "Happy Birthday to you!\n"
          ]
        }
      ]
    },
    {
      "cell_type": "code",
      "source": [
        "def math():  #6번\n",
        "  x = int(input(\"첫 번째 정수:\"))\n",
        "  y = int(input(\"두 번째 정수:\"))\n",
        "  print(\"정수\",x,\"+\",y,\"의 합은?\")\n",
        "math()"
      ],
      "metadata": {
        "colab": {
          "base_uri": "https://localhost:8080/"
        },
        "id": "J02HOpJdZ2hV",
        "outputId": "cbcb613d-27eb-45b1-83d6-dd2562006d21"
      },
      "execution_count": null,
      "outputs": [
        {
          "output_type": "stream",
          "name": "stdout",
          "text": [
            "첫 번째 정수:9\n",
            "두 번째 정수:12\n",
            "정수 9 + 12 의 합은?\n"
          ]
        }
      ]
    },
    {
      "cell_type": "code",
      "source": [
        "PI = 3.14  #7번\n",
        "def circleArea(radius):\n",
        "  area = PI*(radius**2)\n",
        "  return area\n",
        "def circleCircumference(radius):\n",
        "  circumference = 2*PI*radius\n",
        "  return circumference\n",
        "\n",
        "print(\"반지름이 5인 원의 면적:\", circleArea(5))  # 반지름이 5인원의면적 출력\n",
        "print(\"반지름이 5인 원의 둘레:\", circleCircumference(5))  # 반지름이 5인 원의둘레 출력"
      ],
      "metadata": {
        "colab": {
          "base_uri": "https://localhost:8080/"
        },
        "id": "NoEjE7dBZ2jY",
        "outputId": "a1444134-44bf-42f8-c864-0f621c983be1"
      },
      "execution_count": null,
      "outputs": [
        {
          "output_type": "stream",
          "name": "stdout",
          "text": [
            "반지름이 5인 원의 면적: 78.5\n",
            "반지름이 5인 원의 둘레: 31.400000000000002\n"
          ]
        }
      ]
    },
    {
      "cell_type": "code",
      "source": [
        "def p(x,y):\n",
        "  print(\"(\",x,\"+\",y,\")=\",x+y)\n",
        "def s(x,y):\n",
        "  print(\"(\",x,\"-\",y,\")=\",x-y)\n",
        "def m(x,y):\n",
        "  print(\"(\",x,\"/\",y,\")=\",x/y)\n",
        "def d(x,y):\n",
        "  print(\"(\",x,\"*\",y,\")=\",x*y)\n",
        "p(20,10)\n",
        "s(20,10)\n",
        "m(20,10)\n",
        "d(20,10)"
      ],
      "metadata": {
        "colab": {
          "base_uri": "https://localhost:8080/"
        },
        "id": "PD3O0Vz4Z2mA",
        "outputId": "e3e45b09-98de-41a8-b547-faba72feba0c"
      },
      "execution_count": null,
      "outputs": [
        {
          "output_type": "stream",
          "name": "stdout",
          "text": [
            "( 20 + 10 )= 30\n",
            "( 20 - 10 )= 10\n",
            "( 20 / 10 )= 2.0\n",
            "( 20 * 10 )= 200\n"
          ]
        }
      ]
    }
  ]
}