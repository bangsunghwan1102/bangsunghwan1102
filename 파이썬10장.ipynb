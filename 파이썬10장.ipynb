{
  "nbformat": 4,
  "nbformat_minor": 0,
  "metadata": {
    "colab": {
      "name": "파이썬10장.ipynb",
      "provenance": [],
      "collapsed_sections": [],
      "authorship_tag": "ABX9TyPESMGMii1qgbpWtCCz5DDm",
      "include_colab_link": true
    },
    "kernelspec": {
      "name": "python3",
      "display_name": "Python 3"
    },
    "language_info": {
      "name": "python"
    }
  },
  "cells": [
    {
      "cell_type": "markdown",
      "metadata": {
        "id": "view-in-github",
        "colab_type": "text"
      },
      "source": [
        "<a href=\"https://colab.research.google.com/github/bangsunghwan1102/bangsunghwan1102/blob/main/%ED%8C%8C%EC%9D%B4%EC%8D%AC10%EC%9E%A5.ipynb\" target=\"_parent\"><img src=\"https://colab.research.google.com/assets/colab-badge.svg\" alt=\"Open In Colab\"/></a>"
      ]
    },
    {
      "cell_type": "markdown",
      "source": [
        "연습문제\n"
      ],
      "metadata": {
        "id": "N8fVT7BG0PTq"
      }
    },
    {
      "cell_type": "code",
      "execution_count": null,
      "metadata": {
        "id": "q4qPbBI90Mei"
      },
      "outputs": [],
      "source": [
        "from tkinter import *   \n",
        "window = Tk()\n",
        "\n",
        "l = Label(window, text = \"간단한 GUI 프로그램!\")\n",
        "b1 = Button(window, text= \"환영합니다\")\n",
        "b2 = Button(window, text= \"종료\")\n",
        "l.pack()\n",
        "b1.pack()\n",
        "b2.pack()\n",
        "\n",
        "window.mainloop()"
      ]
    },
    {
      "cell_type": "code",
      "source": [
        "from tkinter import *   \n",
        "window = Tk()\n",
        "total = 0\n",
        "def plus():\n",
        "      global total\n",
        "      x = e.get()\n",
        "      total = total + int(x)\n",
        "      l2[\"text\"] = str(total)\n",
        "\n",
        "def minus():\n",
        "      global total\n",
        "      x = e.get()\n",
        "      total = total - int(x)\n",
        "      l2[\"text\"] = str(total)\n",
        "def reset():\n",
        "      global total\n",
        "      total = 0\n",
        "      l2[\"text\"] = str(total)\n",
        "          \n",
        "l1 = Label(window, text = \"현재 합계:\")\n",
        "l2 = Label(window, text = total)\n",
        "e = Entry(window)\n",
        "b1 = Button(window, text= \"더하기(+)\", command = plus)\n",
        "b2 = Button(window, text= \"빼기(-)\",command = minus)\n",
        "b3 = Button(window, text= \"초기화\",command = reset)\n",
        "l1.grid(row= 0, column=0)\n",
        "l2.grid(row= 0, column=1)\n",
        "e.grid(row= 1,column=0, columnspan=3)\n",
        "b1.grid(row=2,column=0)\n",
        "b2.grid(row=2,column=1)\n",
        "b3.grid(row=2,column=2)\n",
        "window.mainloop()"
      ],
      "metadata": {
        "id": "RZmfFWB80Vr7"
      },
      "execution_count": null,
      "outputs": []
    },
    {
      "cell_type": "code",
      "source": [
        "from tkinter import * \n",
        "import random\n",
        "window = Tk()\n",
        "\n",
        "def game():\n",
        "  x = random.randint(0, 100)\n",
        "  y = int(input())\n",
        "  if x > y :    # x가 y보다 크면\n",
        "    print(\"높아요\")  # 높아요 출력\n",
        "  elif x < y :    #y가 x보다 크면\n",
        "    print(\"낮아요\") # 낮아요 출력\n",
        "  else x == y :   # x가 y랑 같으면\n",
        "    print(\"정답입니다\")  # 정답입니다 출력\n",
        "\n",
        "l = Label(window)\n",
        "\n",
        "\n",
        "window.mainloop()"
      ],
      "metadata": {
        "id": "wzr_6omW0Vvp"
      },
      "execution_count": null,
      "outputs": []
    },
    {
      "cell_type": "code",
      "source": [
        "from tkinter import *   \n",
        "import random\n",
        "window = Tk()\n",
        "x = random.randint(0, 100)\n",
        "def game():\n",
        "    y = int(e.get()) \n",
        "    if x > y :    # 만약 x가 y보다 크면\n",
        "      l[\"text\"]= \"낮아요\",\n",
        "    elif x < y :   # y가 x보다 크면\n",
        "      l[\"text\"]= \"높아요\"\n",
        "    elif x == y :   #  x가 y랑 같으면\n",
        "      l[\"text\"]= \"정답입니다\"\n",
        "def d():\n",
        "    l[\"text\"]= x\n",
        "def reset():    \n",
        "    global x\n",
        "    x = random.randint(0, 100)\n",
        "    l[\"text\"]= \"\"\n",
        "l = Label(window, text = \"숫자를 입력하세요\")\n",
        "l.grid(row = 0 , column = 0, columnspan = 2)\n",
        "e = Entry(window)\n",
        "e.grid(row = 1 , column = 0, columnspan = 2)\n",
        "b1 = Button(window, text = \"숫자를 입력\", command = game )\n",
        "b2 = Button(window, text = \"게임을 다시 실행\" , command = reset)\n",
        "b3 = Button(window, text = \"정답\" , command = d)\n",
        "b1.grid(row = 2 , column = 0)\n",
        "b2.grid(row = 2 , column = 1)\n",
        "b3.grid(row = 2 , column = 2)\n",
        "window.mainloop()"
      ],
      "metadata": {
        "id": "8gj8e7AB0V0E"
      },
      "execution_count": null,
      "outputs": []
    },
    {
      "cell_type": "code",
      "source": [
        "from tkinter import *  \n",
        "window = Tk() \n",
        "def change():\n",
        "    inch = int(e.get())\n",
        "    cm = inch *2.54\n",
        "    l4[\"text\"]= cm,\"cm\"\n",
        "l = Label(window, text = \"inch를 cm로 변환\")\n",
        "l2 = Label(window, text = \"inch를입력\")\n",
        "l.grid(row = 0 , column = 0, columnspan = 2)\n",
        "l2.grid(row = 1 , column = 0,)\n",
        "e = Entry(window)\n",
        "e.grid(row = 1 , column = 1 )\n",
        "l3 = Label(window, text = \"변환 결과\", )\n",
        "l4 = Label(window,)\n",
        "b = Button(window, text = \"변환\" , command = change)\n",
        "l3.grid(row = 2 , column = 0)\n",
        "l4.grid(row = 2 , column = 1)\n",
        "b.grid(row = 3 , column = 1)  \n",
        "\n",
        "window.mainloop()\n"
      ],
      "metadata": {
        "id": "7NhfWu7j0Vxw"
      },
      "execution_count": null,
      "outputs": []
    }
  ]
}