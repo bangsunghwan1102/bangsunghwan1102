{
  "nbformat": 4,
  "nbformat_minor": 0,
  "metadata": {
    "colab": {
      "name": "파이썬 1장 과제ㅐ.ipynb",
      "provenance": [],
      "collapsed_sections": [],
      "authorship_tag": "ABX9TyPQF72q1ueeBeb7d7SB1RPc",
      "include_colab_link": true
    },
    "kernelspec": {
      "name": "python3",
      "display_name": "Python 3"
    },
    "language_info": {
      "name": "python"
    }
  },
  "cells": [
    {
      "cell_type": "markdown",
      "metadata": {
        "id": "view-in-github",
        "colab_type": "text"
      },
      "source": [
        "<a href=\"https://colab.research.google.com/github/bangsunghwan1102/bangsunghwan1102/blob/main/%ED%8C%8C%EC%9D%B4%EC%8D%AC_1%EC%9E%A5_%EA%B3%BC%EC%A0%9C.ipynb\" target=\"_parent\"><img src=\"https://colab.research.google.com/assets/colab-badge.svg\" alt=\"Open In Colab\"/></a>"
      ]
    },
    {
      "cell_type": "code",
      "metadata": {
        "id": "jSMTGa3PFuiM"
      },
      "source": [
        ""
      ],
      "execution_count": null,
      "outputs": []
    },
    {
      "cell_type": "markdown",
      "metadata": {
        "id": "iHL3PvfhFg78"
      },
      "source": [
        "도전문제\n"
      ]
    },
    {
      "cell_type": "code",
      "metadata": {
        "colab": {
          "base_uri": "https://localhost:8080/"
        },
        "id": "fUMkyuStFUKQ",
        "outputId": "f7a650c4-e9c3-4ab8-dbaa-1d7020ef6696"
      },
      "source": [
        "\n",
        "print(\"안녕하세요\")"
      ],
      "execution_count": null,
      "outputs": [
        {
          "output_type": "stream",
          "name": "stdout",
          "text": [
            "안녕하세요\n"
          ]
        }
      ]
    },
    {
      "cell_type": "code",
      "metadata": {
        "colab": {
          "base_uri": "https://localhost:8080/"
        },
        "id": "xUbJ3rmIFWDi",
        "outputId": "e0a722de-5dea-4622-becb-f01837cae37d"
      },
      "source": [
        "print(3.141592*10.0*10.0)"
      ],
      "execution_count": null,
      "outputs": [
        {
          "output_type": "stream",
          "name": "stdout",
          "text": [
            "314.1592\n"
          ]
        }
      ]
    },
    {
      "cell_type": "code",
      "metadata": {
        "colab": {
          "base_uri": "https://localhost:8080/"
        },
        "id": "--1YPO9pFrtc",
        "outputId": "94551614-ffdb-467d-e760-e7adefcd4b2f"
      },
      "source": [
        "print((1/100)*1234)"
      ],
      "execution_count": null,
      "outputs": [
        {
          "output_type": "stream",
          "name": "stdout",
          "text": [
            "12.34\n"
          ]
        }
      ]
    },
    {
      "cell_type": "code",
      "metadata": {
        "id": "HTf6OSqiFr73"
      },
      "source": [
        "import turtle as t #삼각형\n",
        "t.shape(\"turtle\") # 거북이 모양\n",
        "t.fd(100) #앞으로 100\n",
        "t.lt(120) # 왼쪽으로 120도\n",
        "t.fd(100)\n",
        "t.lt(120)\n",
        "t.fd(100)\n",
        "t.lt(120)"
      ],
      "execution_count": null,
      "outputs": []
    },
    {
      "cell_type": "code",
      "metadata": {
        "id": "6sB1xYOIFsCu"
      },
      "source": [
        "import turtle as t #사각형\n",
        "t.shape(\"turtle\") \n",
        "t.fd(100)\n",
        "t.lt(90)\n",
        "t.fd(100)\n",
        "t.lt(90)\n",
        "t.fd(100)\n",
        "t.lt(90)\n",
        "t.fd(100)\n",
        "t.lt(90)"
      ],
      "execution_count": null,
      "outputs": []
    },
    {
      "cell_type": "code",
      "metadata": {
        "id": "4g393NAQFsIy"
      },
      "source": [
        "import turtle as t #육각형\n",
        "t.shape(\"turtle\")\n",
        "t.fd(100)\n",
        "t.lt(60)\n",
        "t.fd(100)\n",
        "t.lt(60)\n",
        "t.fd(100)\n",
        "t.lt(60)\n",
        "t.fd(100)\n",
        "t.lt(60)\n",
        "t.fd(100)\n",
        "t.lt(60)\n",
        "t.fd(100)\n",
        "t.lt(60)"
      ],
      "execution_count": null,
      "outputs": []
    },
    {
      "cell_type": "markdown",
      "metadata": {
        "id": "vu7UpdScGU07"
      },
      "source": [
        " 밑에부터 연습문제\n",
        " "
      ]
    },
    {
      "cell_type": "code",
      "metadata": {
        "colab": {
          "base_uri": "https://localhost:8080/"
        },
        "id": "VV6zUB9uFsOJ",
        "outputId": "719a79f8-2699-47c4-fb06-2cb65e8dfb57"
      },
      "source": [
        "print(\"파이썬은 강력합니다\") #1번 "
      ],
      "execution_count": null,
      "outputs": [
        {
          "output_type": "stream",
          "name": "stdout",
          "text": [
            "파이썬은 강력합니다\n"
          ]
        }
      ]
    },
    {
      "cell_type": "code",
      "metadata": {
        "colab": {
          "base_uri": "https://localhost:8080/",
          "height": 136
        },
        "id": "htiOVAsPFsS5",
        "outputId": "0f20fc12-2077-49e9-9506-2e8b34dd6751"
      },
      "source": [
        "반갑습니다. 파이썬 #2번\n",
        "0.6 \n",
        "Hello World !!!"
      ],
      "execution_count": null,
      "outputs": [
        {
          "output_type": "error",
          "ename": "SyntaxError",
          "evalue": "ignored",
          "traceback": [
            "\u001b[0;36m  File \u001b[0;32m\"<ipython-input-10-79040f7321c8>\"\u001b[0;36m, line \u001b[0;32m3\u001b[0m\n\u001b[0;31m    Hello World !!\u001b[0m\n\u001b[0m              ^\u001b[0m\n\u001b[0;31mSyntaxError\u001b[0m\u001b[0;31m:\u001b[0m invalid syntax\n"
          ]
        }
      ]
    },
    {
      "cell_type": "code",
      "metadata": {
        "colab": {
          "base_uri": "https://localhost:8080/"
        },
        "id": "BIf54974GekJ",
        "outputId": "68a53619-edd2-4cf1-d2a4-3fdc1848d862"
      },
      "source": [
        "print(7*24) #3번 "
      ],
      "execution_count": null,
      "outputs": [
        {
          "output_type": "stream",
          "name": "stdout",
          "text": [
            "168\n"
          ]
        }
      ]
    },
    {
      "cell_type": "code",
      "metadata": {
        "id": "gpFnsaxjGelw"
      },
      "source": [
        "import turtle as t #4번 \n",
        "t.shape(\"turtle\") # 거북이모양 \n",
        "t.fd(100)\n",
        "t.lt(90)\n",
        "t.fd(100)\n",
        "t.lt(270)\n",
        "t.fd(100)\n",
        "t.lt(270)\n",
        "t.fd(100)\n",
        "t.lt(90)\n",
        "t.fd(100)"
      ],
      "execution_count": null,
      "outputs": []
    },
    {
      "cell_type": "code",
      "metadata": {
        "id": "QmHMR_mFG0kl"
      },
      "source": [
        "import turtle as t #5번 \n",
        "t.shape(\"turtle\")\n",
        "t.width(10) # 두께 10\n",
        "t.fd(100)\n",
        "t.lt(90)\n",
        "t.fd(100)"
      ],
      "execution_count": null,
      "outputs": []
    },
    {
      "cell_type": "code",
      "metadata": {
        "id": "iSAPPRwhG0nN"
      },
      "source": [
        "import turtle as t #6번\n",
        "t.shape(\"turtle\")\n",
        "t.color(\"blue\") #색깔은 파란색\n",
        "t.fd(100)"
      ],
      "execution_count": null,
      "outputs": []
    },
    {
      "cell_type": "code",
      "metadata": {
        "id": "Ac5u6PiUG09m"
      },
      "source": [
        "import turtle as t #7번 \n",
        "t.shape(\"square\") #사각형 모양으로\n",
        "t.fd(100)"
      ],
      "execution_count": null,
      "outputs": []
    },
    {
      "cell_type": "code",
      "metadata": {
        "id": "aLx8cMykG0_V"
      },
      "source": [
        "import turtle as t #8번\n",
        "t.shape(\"turtle\")\n",
        "t.fd(100)\n",
        "t.up() #펜을 든다\n",
        "t.goto(0,100) #0,100 으로 이동한다\n",
        "t.down() #펜을 내려 놓는다\n",
        "t.fd(100)"
      ],
      "execution_count": null,
      "outputs": []
    },
    {
      "cell_type": "code",
      "metadata": {
        "id": "lJ5m9CUbHBH0"
      },
      "source": [
        "import turtle as t #9번 \n",
        "t.shape(\"turtle\")\n",
        "t.circle(100)\n",
        "t.up()\n",
        "t.goto(-200,0)\n",
        "t.down()\n",
        "t.circle(100)  #반지름이 100인 원을 그린다\n",
        "t.up()\n",
        "t.goto(-400,0)\n",
        "t.down()\n",
        "t.circle(100)\n",
        "t.up()\n",
        "t.goto(-100,-100)\n",
        "t.down()\n",
        "t.circle(100)\n",
        "t.up()\n",
        "t.goto(-300,-100)\n",
        "t.down()\n",
        "t.circle(100)"
      ],
      "execution_count": null,
      "outputs": []
    }
  ]
}