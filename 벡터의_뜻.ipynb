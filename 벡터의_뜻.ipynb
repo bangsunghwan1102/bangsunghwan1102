{
  "nbformat": 4,
  "nbformat_minor": 0,
  "metadata": {
    "colab": {
      "name": "벡터의 뜻.ipynb",
      "provenance": [],
      "authorship_tag": "ABX9TyM3vzmwLaSvl1O2t47qF2hR",
      "include_colab_link": true
    },
    "kernelspec": {
      "name": "python3",
      "display_name": "Python 3"
    },
    "language_info": {
      "name": "python"
    }
  },
  "cells": [
    {
      "cell_type": "markdown",
      "metadata": {
        "id": "view-in-github",
        "colab_type": "text"
      },
      "source": [
        "<a href=\"https://colab.research.google.com/github/bangsunghwan1102/bangsunghwan1102/blob/main/%EB%B2%A1%ED%84%B0%EC%9D%98_%EB%9C%BB.ipynb\" target=\"_parent\"><img src=\"https://colab.research.google.com/assets/colab-badge.svg\" alt=\"Open In Colab\"/></a>"
      ]
    },
    {
      "cell_type": "markdown",
      "metadata": {
        "id": "co_AQxwczjoI"
      },
      "source": [
        "벡터란 크기와 방향을 동시에 가지는 물리적 양을 벡터라고한다. 수학의 관점에서 벡터는 일반적으로 추상적인 벡터공간을 구성하는 원소이다. 물리학과 공학에서는 벡터공간이 유클리드 공간인 경우를 대부분 다루기 때문에, 수학에서의 일반적인 의미가 제한되어 사용되고 있다고 할수 있다. \n",
        "\n",
        "\n"
      ]
    }
  ]
}