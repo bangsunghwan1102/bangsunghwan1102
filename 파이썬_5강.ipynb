{
  "nbformat": 4,
  "nbformat_minor": 0,
  "metadata": {
    "colab": {
      "name": "파이썬 5강.ipynb",
      "provenance": [],
      "collapsed_sections": [],
      "authorship_tag": "ABX9TyOK63hDQxLmBSV9d5i34F47",
      "include_colab_link": true
    },
    "kernelspec": {
      "name": "python3",
      "display_name": "Python 3"
    },
    "language_info": {
      "name": "python"
    }
  },
  "cells": [
    {
      "cell_type": "markdown",
      "metadata": {
        "id": "view-in-github",
        "colab_type": "text"
      },
      "source": [
        "<a href=\"https://colab.research.google.com/github/bangsunghwan1102/bangsunghwan1102/blob/main/%ED%8C%8C%EC%9D%B4%EC%8D%AC_5%EA%B0%95.ipynb\" target=\"_parent\"><img src=\"https://colab.research.google.com/assets/colab-badge.svg\" alt=\"Open In Colab\"/></a>"
      ]
    },
    {
      "cell_type": "markdown",
      "metadata": {
        "id": "a-_AHUkHTAVX"
      },
      "source": [
        "도전문제\n",
        "\n"
      ]
    },
    {
      "cell_type": "code",
      "metadata": {
        "colab": {
          "base_uri": "https://localhost:8080/"
        },
        "id": "kl1KTxaWS25U",
        "outputId": "a2bccf75-1b66-418c-8223-d92413f8e751"
      },
      "source": [
        "age = int(input(\"나이를 입력하시요:\")) # 나이를 변수로 사용\n",
        "if age >= 15:\n",
        "          print(\"이 영화를 보실 수있습니다.\")     #15살 이상이면 영화보기 가능 영화가격은 만원\n",
        "          print(\"영화의 가격은 10000원입니다\")\n",
        "else:\n",
        "          print(\"이 영화를 보실 수 없습니다.\")  # 15살 미만이면 영화보기 불가능\n",
        "          print(\"다른영화를 보시겠어요?\")"
      ],
      "execution_count": null,
      "outputs": [
        {
          "output_type": "stream",
          "name": "stdout",
          "text": [
            "나이를 입력하시요:22\n",
            "이 영화를 보실 수있습니다.\n",
            "영화의 가격은 10000원입니다\n"
          ]
        }
      ]
    },
    {
      "cell_type": "code",
      "metadata": {
        "id": "yrEdnq4bUJ1N",
        "colab": {
          "base_uri": "https://localhost:8080/"
        },
        "outputId": "794b31c3-3e82-45f3-8798-1224570ca69b"
      },
      "source": [
        "import random\n",
        "time = random.randint(1,24)  # 1시부터 24시까지 랜덤으로 시간이나온다\n",
        "print(\"좋은 아침입니다. 지금 시각은\" +str(time) + \"시입니다.\")\n",
        "\n",
        "sunny = random. choice ([True])  \n",
        "if sunny:\n",
        "  print(\"현재 날씨가 화창합니다.\")  \n",
        "else:\n",
        "  print(\"현재 날씨가 화창하지 않습니다.\")\n",
        "if time >= 6and time< 9 or time >= 14 and time < 16 and sunny: #6시와 9시사이 또는 14시와 16사이 노래를한다\n",
        "  print(\"종달새가 노래를 한다.\")\n",
        "else:\n",
        "  print(\"종달새가 노래를 하지않는다.\")"
      ],
      "execution_count": 2,
      "outputs": [
        {
          "output_type": "stream",
          "name": "stdout",
          "text": [
            "좋은 아침입니다. 지금 시각은2시입니다.\n",
            "현재 날씨가 화창합니다.\n",
            "종달새가 노래를 하지않는다.\n"
          ]
        }
      ]
    },
    {
      "cell_type": "code",
      "metadata": {
        "id": "TGPSaelAT5wn",
        "colab": {
          "base_uri": "https://localhost:8080/"
        },
        "outputId": "c5e1ca65-4622-478c-f2fb-b70966bbc057"
      },
      "source": [
        "id = \"ilovepython\"\n",
        "s = input(\"아이디를 입력하시오:\")  # 아이디를 변수로\n",
        "if s == id:\n",
        "  print(\"환영합니다.\")\n",
        "else:\n",
        "  print(\"아이디를 찾을수 없습니다.\")\n",
        "password =\"123456\"\n",
        "s = input(\"패스워드를 입력하시오:\") # 패스워드를 변수로\n",
        "if s== password:\n",
        "  print(\"환영합니다.\")\n"
      ],
      "execution_count": 5,
      "outputs": [
        {
          "output_type": "stream",
          "name": "stdout",
          "text": [
            "아이디를 입력하시오:i lovepython\n",
            "아이디를 찾을수 없습니다.\n",
            "패스워드를 입력하시오:123456\n",
            "환영합니다.\n"
          ]
        }
      ]
    },
    {
      "cell_type": "code",
      "metadata": {
        "id": "wCiW-VIKT5y9",
        "colab": {
          "base_uri": "https://localhost:8080/"
        },
        "outputId": "8a35f38b-8efb-4e6c-f433-5b44e1616a6d"
      },
      "source": [
        "options=[\"왼쪽 상단\",\"왼쪽 하단\",\"중앙\",\"오른쪽 상단\",\"오른쪽하단\"]\n",
        "computer_choice = random.choice(options)   # 위에 리스트 옵션중에서 하나를 랜덤에서 선택한다\n",
        "user_choice = input(\"어디를 수비하시겠어요?(왼쪽 상단,왼쪽 하단,중앙,오른쪽 상단,오른쪽 하단)\")\n",
        "if computer_choice == user_choice: \n",
        "  print(\"수비에 성공하셨습니다\")  # 컴퓨터의 선택과 나의선택이 같으면 수비에 성공\n",
        "else:\n",
        "  print(\"페널티 킥이 성공하였습니다.\")  # 컴퓨터의 선택과 나의선택이 다르면 수비에 실패"
      ],
      "execution_count": 6,
      "outputs": [
        {
          "output_type": "stream",
          "name": "stdout",
          "text": [
            "어디를 수비하시겠어요?(왼쪽 상단,왼쪽 하단,중앙,오른쪽 상단,오른쪽 하단)중앙\n",
            "페널티 킥이 성공하였습니다.\n"
          ]
        }
      ]
    },
    {
      "cell_type": "markdown",
      "metadata": {
        "id": "JAd0yTYq-W1n"
      },
      "source": [
        "연습문제\n"
      ]
    },
    {
      "cell_type": "code",
      "metadata": {
        "id": "zCeCME-2T51K"
      },
      "source": [
        "20살미만 #1번"
      ],
      "execution_count": null,
      "outputs": []
    },
    {
      "cell_type": "code",
      "metadata": {
        "id": "nyYyeq4iT53n"
      },
      "source": [
        "age = 20  #2번\n",
        "if age >= 30 and age =< 50:  #age가 30이상일때 그리고 50이하일때 \n",
        "  print(\"30이상 50이하\")  # 30이상 50이하로 출력"
      ],
      "execution_count": null,
      "outputs": []
    },
    {
      "cell_type": "code",
      "metadata": {
        "id": "sbmTBOr8T56H",
        "colab": {
          "base_uri": "https://localhost:8080/"
        },
        "outputId": "aa1aac76-1d69-42ff-9621-29068d6f5ad1"
      },
      "source": [
        "x = int(input(\"현재 온도를 입력하시오:\")) # 3번 #온도를 변스루사용\n",
        "\n",
        "if x >= 25 :   #온도가 25도이상일때\n",
        "  print(\"반바지를 입으세요\")  # 반바지를 입으세요 출력\n",
        "elif x < 25 :   #온도가 25도미만일때\n",
        "  print(\"긴바지를 입으세요\")  # 긴바지를 입으세요 출력"
      ],
      "execution_count": 8,
      "outputs": [
        {
          "output_type": "stream",
          "name": "stdout",
          "text": [
            "현재 온도를 입력하시오:0\n",
            "긴바지를 입으세요\n"
          ]
        }
      ]
    },
    {
      "cell_type": "code",
      "metadata": {
        "colab": {
          "base_uri": "https://localhost:8080/"
        },
        "id": "9W51zXLR-txI",
        "outputId": "3af4f5d3-ff6a-4211-b04f-eb3731f7589b"
      },
      "source": [
        "x = int(input(\"성적을 입력하시오:\"))  #4번 #성적을 변수로\n",
        "\n",
        "if x >= 90:   #성적이 90점을 이상일때 a학점\n",
        "  print(\"A학점입니다.\")\n",
        "elif x >= 80:   #성적이 80점을 이상일때 B학점\n",
        "  print(\"B학점입니다.\") \n",
        "elif x >= 70:   #성적이 70점을 이상일때 C학점\n",
        "  print(\"C학점입니다.\")\n",
        "elif x >= 60:   #성적이 60점을 이상일때 D학점\n",
        "  print(\"D학점입니다.\")\n",
        "else:   #성적이 60점 미만 일때  F학점\n",
        "  print(\"F학점입니다.\")"
      ],
      "execution_count": 9,
      "outputs": [
        {
          "output_type": "stream",
          "name": "stdout",
          "text": [
            "성적을 입력하시오:100\n",
            "A학점입니다.\n"
          ]
        }
      ]
    },
    {
      "cell_type": "code",
      "metadata": {
        "colab": {
          "base_uri": "https://localhost:8080/"
        },
        "id": "tgUxP5AF-tzd",
        "outputId": "887e7dab-6c34-4c41-e5d4-4d7c63cd3fc7"
      },
      "source": [
        "import random  #5번\n",
        "x = random.randint(1, 100) # 변수1부터 100사이의 난수로 받는다 난수는 랜덤수\n",
        "y = random.randint(1, 100) #변수 1부터 100사이의 난수를 받는다\n",
        "\n",
        "z = int(input(str(x)+ \"-\"+ str(y)+ \"=\"))   #난수x - 난수y의 값을 변수로 받는다 \n",
        "if z == x - y:    #변수 z와 난수x - 난수y의 값과 같을때 맞았습니다 출력\n",
        "  print(\"맞았습니다.\")\n",
        "else :       #변수 z와 난수x - 난수y의 값과 틀릴때 틀렸습니다 출력\n",
        "  print(\"틀렸습니다\")"
      ],
      "execution_count": 10,
      "outputs": [
        {
          "output_type": "stream",
          "name": "stdout",
          "text": [
            "24-44=-20\n",
            "맞았습니다.\n"
          ]
        }
      ]
    },
    {
      "cell_type": "code",
      "metadata": {
        "id": "hk2M1xcuT6Ac",
        "colab": {
          "base_uri": "https://localhost:8080/"
        },
        "outputId": "ec377d8b-4a4a-43ee-ded1-b485827caac4"
      },
      "source": [
        "x = int(input(\"정수를 입력하시오:\")) # 6번  #정수를 변수로 받는다   \n",
        "\n",
        "if x%2 == 0 and x%3 == 0 :  #만약 변수를 2로 나눌떄 값이 0 그리고 변수를 3으로 나눌떄 값이 0이다\n",
        "  print(\"2와 3으로 나누어 떨어집니다.\") # 2와 3으로 나누어떨어집니다 출력\n",
        "elif x%2 == 0 :   #변수를 2로 나누었을때 값이 0이면\n",
        "  print(\"2로 나누어 떨어집니다.\") # 2로나누어 떨어집니다 출력\n",
        "elif x%3 == 0 :    #변수를 3으로 나누었을때 값이 0이면\n",
        "  print(\"3으로 나누어 떨어집니다.\") # 3으로 나누어 떨어집니다 출력\n",
        "else :  #변수가 2와 3으로 나누어떨어지지 않으면\n",
        "  print(\"2와 3으로 나누어떨어지지 않습니다.\") #2와 3으로 나누어떨어지지 않습니다 출력."
      ],
      "execution_count": 12,
      "outputs": [
        {
          "output_type": "stream",
          "name": "stdout",
          "text": [
            "정수를 입력하시오:6\n",
            "2와 3으로 나누어 떨어집니다.\n"
          ]
        }
      ]
    },
    {
      "cell_type": "code",
      "metadata": {
        "colab": {
          "base_uri": "https://localhost:8080/"
        },
        "id": "J_-5hizt_dUW",
        "outputId": "e241838c-0ebb-42b1-ccad-667b6726b717"
      },
      "source": [
        "import random    #7번\n",
        "x = int(input(\"복권번호를 입력하시오(0에서 99사이):\"))   #변수를 0부터 99사이로 받는다\n",
        "y = random.randint(0, 99)   #변수를 0부터 99사이의 난수로 받는다\n",
        "print(\"당첨번호는\"+str(y)+\"입니다.\")\n",
        "\n",
        "if x//10 == y//10 and x%10 == y%10 :  #정수x를 10으로 나눈 몫이 난수 y를 10으로 나눈몫과같고 나머지또한 같으면 \n",
        "  print(\"상금은 100만원입니다.\")  # 상금은 100만원입니다 출력\n",
        "elif x//10 == y//10 or x%10 == y%10 :  #정수x를 10으로 나눈 몫이 난수y를 10으로 나눈 몫이 같거나 정수x를 10으로나눈 나머지와 난수y를 10으로 나눈나머지가 같으면\n",
        "  print(\"상금은 50만원입니다.\") # 상금 50만원입니다 출력\n",
        "else :  #정수 x를 10으로 나눈몫이랑 난수y를 10으로 나눈몫과 다르고 나머지도 다르면 \n",
        "  print(\"상금은 없습니다.\") # 상금은없습니다 출력"
      ],
      "execution_count": 13,
      "outputs": [
        {
          "output_type": "stream",
          "name": "stdout",
          "text": [
            "복권번호를 입력하시오(0에서 99사이):67\n",
            "당첨번호는20입니다.\n",
            "상금은 없습니다.\n"
          ]
        }
      ]
    }
  ]
}