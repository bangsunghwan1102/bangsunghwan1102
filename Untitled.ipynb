{
  "nbformat": 4,
  "nbformat_minor": 0,
  "metadata": {
    "colab": {
      "name": "Untitled",
      "provenance": [],
      "authorship_tag": "ABX9TyM6Su3PNLBgbRkrKYgmTV58",
      "include_colab_link": true
    },
    "kernelspec": {
      "name": "python3",
      "display_name": "Python 3"
    },
    "language_info": {
      "name": "python"
    }
  },
  "cells": [
    {
      "cell_type": "markdown",
      "metadata": {
        "id": "view-in-github",
        "colab_type": "text"
      },
      "source": [
        "<a href=\"https://colab.research.google.com/github/bangsunghwan1102/bangsunghwan1102/blob/main/Untitled.ipynb\" target=\"_parent\"><img src=\"https://colab.research.google.com/assets/colab-badge.svg\" alt=\"Open In Colab\"/></a>"
      ]
    },
    {
      "cell_type": "code",
      "metadata": {
        "id": "7OsL5Lde7Jt1"
      },
      "source": [
        "score = int(input(\"95\"))\n",
        "\n",
        "if score>=90:\n",
        "  print(\"A 입니다.\")\n",
        "elif 90>score>=80:\n",
        "  print(\"B 입니다.\")\n",
        "elif 80>score>=70:\n",
        "  print(\"C 입니다.\")\n",
        "else : print(\"F 입니다.\")\n"
      ],
      "execution_count": null,
      "outputs": []
    },
    {
      "cell_type": "markdown",
      "metadata": {
        "id": "mE6AgTDM7meC"
      },
      "source": [
        "점수를 입력하시오 95\n",
        "\n",
        "\n",
        "\n",
        "A 입니다.\n",
        "\n",
        "\n",
        "\n",
        "\n",
        "\n",
        "\n",
        "\n",
        "\n",
        "\n"
      ]
    },
    {
      "cell_type": "markdown",
      "metadata": {
        "id": "SLhF-tjx7pWG"
      },
      "source": [
        ""
      ]
    }
  ]
}