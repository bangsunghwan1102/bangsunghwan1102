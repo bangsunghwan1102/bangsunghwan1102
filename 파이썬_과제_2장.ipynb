{
  "nbformat": 4,
  "nbformat_minor": 0,
  "metadata": {
    "colab": {
      "name": "파이썬 과제 2장.ipynb",
      "provenance": [],
      "collapsed_sections": [],
      "toc_visible": true,
      "authorship_tag": "ABX9TyOq5SDmz/OYm7BscTH791Ml",
      "include_colab_link": true
    },
    "kernelspec": {
      "name": "python3",
      "display_name": "Python 3"
    },
    "language_info": {
      "name": "python"
    }
  },
  "cells": [
    {
      "cell_type": "markdown",
      "metadata": {
        "id": "view-in-github",
        "colab_type": "text"
      },
      "source": [
        "<a href=\"https://colab.research.google.com/github/bangsunghwan1102/bangsunghwan1102/blob/main/%ED%8C%8C%EC%9D%B4%EC%8D%AC_%EA%B3%BC%EC%A0%9C_2%EC%9E%A5.ipynb\" target=\"_parent\"><img src=\"https://colab.research.google.com/assets/colab-badge.svg\" alt=\"Open In Colab\"/></a>"
      ]
    },
    {
      "cell_type": "markdown",
      "metadata": {
        "id": "TbcI0mC3KzMD"
      },
      "source": [
        "도전문제\n",
        "\n"
      ]
    },
    {
      "cell_type": "code",
      "metadata": {
        "id": "D8Qj-YbVK2hH"
      },
      "source": [
        "13\n",
        "76"
      ],
      "execution_count": null,
      "outputs": []
    },
    {
      "cell_type": "code",
      "metadata": {
        "id": "i78xE0_YK2j4"
      },
      "source": [
        "import turtle as t\n",
        "t.shape(\"turtle\") \n",
        "radius = 50 #반지름 변수만 바꾸어주면 다바뀐다\n",
        "x = 30 # x를 30으로한다\n",
        "t.circle(radius) #반지름이 radius인 원을 그린다\n",
        "t.fd(x)  #x만큼 앞으로 간다\n",
        "t.circle(radius)\n",
        "x = 50\n",
        "t.fd(x)\n",
        "t.circle(radius)"
      ],
      "execution_count": null,
      "outputs": []
    },
    {
      "cell_type": "code",
      "metadata": {
        "colab": {
          "base_uri": "https://localhost:8080/"
        },
        "id": "ErZtbgGMK2mK",
        "outputId": "ffdbbb91-62a1-4da9-a0f5-a5cab72d0836"
      },
      "source": [
        "x = int(input(\"첫번째 정수를 입력\")) #변수x를 정수로 받는다\n",
        "y = int(input(\"두번째 정수를 입력\")) #변수y를 정수로 받는다\n",
        "\n",
        "print(x, \"+\", y, \"=\", x + y) #덧셈\n",
        "print(x, \"-\", y, \"=\", x - y) #뺄셈\n",
        "print(x, \"*\", y, \"=\", x * y) #곱셈\n",
        "print(x, \"/\", y, \"=\", x / y) #나눗셈"
      ],
      "execution_count": null,
      "outputs": [
        {
          "output_type": "stream",
          "name": "stdout",
          "text": [
            "첫번째 정수를 입력3\n",
            "두번째 정수를 입력5\n",
            "3 + 5 = 8\n",
            "3 - 5 = -2\n",
            "3 * 5 = 15\n",
            "3 / 5 = 0.6\n"
          ]
        }
      ]
    },
    {
      "cell_type": "markdown",
      "metadata": {
        "id": "bJ-ORKACLnPi"
      },
      "source": [
        "연습문제\n"
      ]
    },
    {
      "cell_type": "code",
      "metadata": {
        "colab": {
          "base_uri": "https://localhost:8080/"
        },
        "id": "SR4aSNubK2on",
        "outputId": "d464b72d-a949-4c0b-c723-4619357f4e22"
      },
      "source": [
        "x = input(\"이름을 입력하시오\")  #이름을 변수로 받는다   #1번째 문제\n",
        "y = int(input(\"나이를 입력하시오\")) #나이를 변수로 받는다\n",
        "z = 100 - y + 2021 #2021년 부터 몇년뒤에 100살이 되는지 계산한다.\n",
        "\n",
        "print(x, \"씨는\", str(z) ,\"년에 100살이시네요!\")"
      ],
      "execution_count": null,
      "outputs": [
        {
          "output_type": "stream",
          "name": "stdout",
          "text": [
            "이름을 입력하시오홍길동\n",
            "나이를 입력하시오22\n",
            "홍길동 씨는 2099 년에 100살이시네요!\n"
          ]
        }
      ]
    },
    {
      "cell_type": "code",
      "metadata": {
        "colab": {
          "base_uri": "https://localhost:8080/"
        },
        "id": "7F8clOCwK2q3",
        "outputId": "63ec8731-b7d8-46c7-eade-607b6d2b10d5"
      },
      "source": [
        "x = int(input(\"첫번째 숫자를 입력하시오\"))   #첫번째 숫자를 정수로 받는다    #2번째 문제\n",
        "y = int(input(\"두번째 숫자를 입력하시오\"))   #두번째 숫자를 정수로 받는다\n",
        "z = int(input(\"세번째 숫자를 입력하시오\"))   #세번째 숫자를 정수로 받는다\n",
        "average = (x + y + z) / 3  #변수 3개의 평균을 구한다\n",
        "\n",
        "print(x, y, z, \"의 평균은\", str(average), \"입니다.\")"
      ],
      "execution_count": null,
      "outputs": [
        {
          "output_type": "stream",
          "name": "stdout",
          "text": [
            "첫번째 숫자를 입력하시오0\n",
            "두번째 숫자를 입력하시오1\n",
            "세번째 숫자를 입력하시오2\n",
            "0 1 2 의 평균은 1.0 입니다.\n"
          ]
        }
      ]
    },
    {
      "cell_type": "code",
      "metadata": {
        "colab": {
          "base_uri": "https://localhost:8080/"
        },
        "id": "mBJ1DZLJK2tT",
        "outputId": "4803730e-9a62-4c3f-96a8-9efcd5a3e88a"
      },
      "source": [
        "radius = int(input(\"반지름을 입력하시오\")) #반지름을 정수로 받는다  #3번째 문제\n",
        "x = 3.141592 * radius *radius  #원의 넓이 식\n",
        "\n",
        "print(\"반지름이\", radius,\"인 원의 넓이는\", x,\"입니다.\")"
      ],
      "execution_count": null,
      "outputs": [
        {
          "output_type": "stream",
          "name": "stdout",
          "text": [
            "반지름을 입력하시오5\n",
            "반지름이 5 인 원의 넓이는 78.5398 입니다.\n"
          ]
        }
      ]
    },
    {
      "cell_type": "code",
      "metadata": {
        "id": "BwVjm5WjK2vX"
      },
      "source": [
        "import turtle as t   #4번째 문제\n",
        "t.shape(\"turtle\")  #모양은 거북이로그린다\n",
        "radius = 50  #radius를 50으로 한다\n",
        "t.circle(radius)  #반지름이 radius인 원을 그린다\n",
        "radius = radius + 20  #radius에 20을 더한값을 변수로 놓는다\n",
        "t.up()  #펜을 든다\n",
        "t.goto(100,0)  #100,0으로 간다\n",
        "t.down() #펜을 내려놓는다\n",
        "t.circle(radius)\n",
        "radius = radius + 20\n",
        "t.up()\n",
        "t.goto(200,0)\n",
        "t.down()\n",
        "t.circle(radius)"
      ],
      "execution_count": null,
      "outputs": []
    },
    {
      "cell_type": "code",
      "metadata": {
        "id": "S6LoqM-LK2x8"
      },
      "source": [
        "import turtle as t   #5번째 문제\n",
        "t.shape(\"turtle\") #모양을 거북이로 그린다\n",
        "side = 100  #side를 100으로 한다\n",
        "t.fd(side)  #side만큼 앞으로 간다\n",
        "t.lt(120)  #120도 만큼 왼쪽으로 돈다\n",
        "t.fd(side)\n",
        "t.lt(120)\n",
        "t.fd(side)"
      ],
      "execution_count": null,
      "outputs": []
    },
    {
      "cell_type": "code",
      "metadata": {
        "id": "_sMeNF1NK20E"
      },
      "source": [
        "3번쨰줄  side를 100에서 200으로 바꾸면 된다 #6번째 문제"
      ],
      "execution_count": null,
      "outputs": []
    },
    {
      "cell_type": "code",
      "metadata": {
        "id": "CHbImHyOK22a"
      },
      "source": [
        "import turtle as t   #7번째 문제\n",
        "t.shape(\"turtle\") #모양을 거북이한다\n",
        "side = 200  side를 200으로 한다\n",
        "angle = 90  #angle를 90도로 한다\n",
        "t.fd(side)  #side만큼 앞으로 간다\n",
        "t.rt(angle)  #angle만큼 오른쪽으로 돈다\n",
        "t.fd(side)\n",
        "t.rt(angle)\n",
        "t.fd(side)\n",
        "t.rt(angle)\n",
        "t.fd(side)\n",
        "t.fd(side)\n",
        "t.rt(angle)\n",
        "t.fd(side)\n",
        "t.rt(angle)\n",
        "t.fd(side)\n",
        "t.rt(angle)\n",
        "t.fd(side)\n",
        "t.fd(side)\n",
        "t.rt(angle)\n",
        "t.fd(side)\n",
        "t.rt(angle)\n",
        "t.fd(side)\n",
        "t.rt(angle)\n",
        "t.fd(side)\n",
        "t.fd(side)\n",
        "t.rt(angle)\n",
        "t.fd(side)\n",
        "t.rt(angle)\n",
        "t.fd(side)\n",
        "t.rt(angle)\n",
        "t.fd(side)"
      ],
      "execution_count": null,
      "outputs": []
    }
  ]
}