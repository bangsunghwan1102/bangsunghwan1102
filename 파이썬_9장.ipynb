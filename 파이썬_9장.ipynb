{
  "nbformat": 4,
  "nbformat_minor": 0,
  "metadata": {
    "colab": {
      "name": "파이썬 9장.ipynb",
      "provenance": [],
      "authorship_tag": "ABX9TyNy68AnhcJBZtTLj7e/Cvk+",
      "include_colab_link": true
    },
    "kernelspec": {
      "name": "python3",
      "display_name": "Python 3"
    },
    "language_info": {
      "name": "python"
    }
  },
  "cells": [
    {
      "cell_type": "markdown",
      "metadata": {
        "id": "view-in-github",
        "colab_type": "text"
      },
      "source": [
        "<a href=\"https://colab.research.google.com/github/bangsunghwan1102/bangsunghwan1102/blob/main/%ED%8C%8C%EC%9D%B4%EC%8D%AC_9%EC%9E%A5.ipynb\" target=\"_parent\"><img src=\"https://colab.research.google.com/assets/colab-badge.svg\" alt=\"Open In Colab\"/></a>"
      ]
    },
    {
      "cell_type": "markdown",
      "source": [
        "도전문제"
      ],
      "metadata": {
        "id": "5D5zT1FzoF1o"
      }
    },
    {
      "cell_type": "code",
      "execution_count": null,
      "metadata": {
        "colab": {
          "base_uri": "https://localhost:8080/"
        },
        "id": "evAkTMcmn7X-",
        "outputId": "2f73a61a-1e86-4a1b-a512-085eee50ebb1"
      },
      "outputs": [
        {
          "output_type": "stream",
          "name": "stdout",
          "text": [
            "5+1=\n"
          ]
        }
      ],
      "source": [
        "import random #random 모듈을 부른다\n",
        "Q = [] # 공백 리스트 생성\n",
        "Q.append(\"1+1=\") #리스트에 항목추가\n",
        "Q.append(\"2+1=\")\n",
        "Q.append(\"3+1=\")\n",
        "Q.append(\"4+1=\")\n",
        "Q.append(\"5+1=\")\n",
        "Q.append(\"6+1=\")\n",
        "Q.append(\"7+1=\")\n",
        "Q.append(\"8+1=\")\n",
        "Q.append(\"9+1=\")\n",
        "Q.append(\"10+1=\")\n",
        "q = random.choice(Q) #리스트Q에있는 항목중에서  랜덤으로 골라서 변수로 받는다\n",
        "print(q)"
      ]
    },
    {
      "cell_type": "markdown",
      "source": [
        "연습문제"
      ],
      "metadata": {
        "id": "kUHHAoSJoeSB"
      }
    },
    {
      "cell_type": "code",
      "source": [
        "list = [] #1번 # 공백리스트 생성\n",
        "sum = 0\n",
        "\n",
        "for i in range(5): #5번 반복한다.\n",
        "  x = int(input(\"정수를 입력하시오:\")) #변수를 정수로 받는다\n",
        "  list.append(x) #리스트 항목에 변수x를 추가한다.\n",
        "for i in list:  #위에i에 list의 항목을 순서대로 입력한다\n",
        "  sum += i #sum의 값에 i의 값을 더한 값을 sum에 저장한다\n",
        "average = sum / len(list)   #sum / len(list)를 변수로 받는다\n",
        "print(average)\n"
      ],
      "metadata": {
        "colab": {
          "base_uri": "https://localhost:8080/"
        },
        "id": "wZcilF37oHez",
        "outputId": "f959caaf-d5d0-4f66-fc66-3be06f475175"
      },
      "execution_count": null,
      "outputs": [
        {
          "output_type": "stream",
          "name": "stdout",
          "text": [
            "정수를 입력하시오:3\n",
            "정수를 입력하시오:3\n",
            "정수를 입력하시오:3\n",
            "정수를 입력하시오:3\n",
            "정수를 입력하시오:3\n",
            "3.0\n"
          ]
        }
      ]
    },
    {
      "cell_type": "code",
      "source": [
        "import random  #2번 # 랜덤 묘둘 불러온다\n",
        "counter = [0, 0, 0, 0, 0, 0]  #항목이 5개인 리스트를 생성\n",
        "for i in range(1000): #1000번 반복한다\n",
        "  value = random.randint(0,5) # 0부터 5사이의 난수를 변수로 받는다.\n",
        "  counter[value] = counter[value] + 1 #counter리스트의 value번째의 값에 1을 더한값을 리스트의 value번째 항목으로 받는다\n",
        "print(\"주사위가 1인 경우는\",counter[0]) \n",
        "print(\"주사위가 2인 경우는\",counter[1])\n",
        "print(\"주사위가 3인 경우는\",counter[2])\n",
        "print(\"주사위가 4인 경우는\",counter[3])\n",
        "print(\"주사위가 5인 경우는\",counter[4])\n",
        "print(\"주사위가 6인 경우는\",counter[5])"
      ],
      "metadata": {
        "colab": {
          "base_uri": "https://localhost:8080/"
        },
        "id": "rLO95TnToHg9",
        "outputId": "009c29cb-7e23-4fb2-8b9c-ece36e846846"
      },
      "execution_count": null,
      "outputs": [
        {
          "output_type": "stream",
          "name": "stdout",
          "text": [
            "주사위가 1인 경우는 170\n",
            "주사위가 2인 경우는 172\n",
            "주사위가 3인 경우는 166\n",
            "주사위가 4인 경우는 156\n",
            "주사위가 5인 경우는 172\n",
            "주사위가 6인 경우는 164\n"
          ]
        }
      ]
    },
    {
      "cell_type": "code",
      "source": [
        "contacts = {} #3번 공백리스트 생성\n",
        "\n",
        "while True : # 무한 반복\n",
        "  name = input(\"(입력모드)이름을 입력하시오:\") # 이름(입력모드)을 변수로 받는다.\n",
        "  if not name: #만약 name변수가 없으면\n",
        "    break #멈춘다 name변수가없을떄\n",
        "  contacts[name] = input(\"전화번호를 입력하시오:\") #전화번호를 딕셔너리의 값으로 받는다 \n",
        "while True: #무한반복\n",
        "  names = input(\"(검색모드)이름을 입력하시오:\") #이름(검색모드)을 변수로 받는다 \n",
        "  if not names: #만약 name변수가 없다면\n",
        "    break #2 멈춘다\n",
        "  print(names,\"의 전화번호는 \",contacts[names],\"입니다.\")"
      ],
      "metadata": {
        "colab": {
          "base_uri": "https://localhost:8080/"
        },
        "id": "Pc5JoFTeoHi-",
        "outputId": "9230e796-ea33-4295-f7e0-8924a51ce9e0"
      },
      "execution_count": null,
      "outputs": [
        {
          "name": "stdout",
          "output_type": "stream",
          "text": [
            "(입력모드)이름을 입력하시오:홍길동\n",
            "전화번호를 입력하시오:111-2222\n",
            "(입력모드)이름을 입력하시오:김철수\n",
            "전화번호를 입력하시오:222-3333\n",
            "(입력모드)이름을 입력하시오:홍길동\n",
            "전화번호를 입력하시오:111-2222\n"
          ]
        }
      ]
    },
    {
      "cell_type": "code",
      "source": [
        "import turtle as t #4번 turtle 모둘을 불러와서 그걸 t로 정한다\n",
        "import random #random 모듈을 불러온다\n",
        "\n",
        "def draw_sqare(c):  # 인수가c인함수 생성\n",
        "  x = random.randint(0,100) #0부터 100사이의 난수를 변수로 받는다\n",
        "  y = random.randint(0,100)  #0부터 100사이의 난수를 변수로 받는다.\n",
        "  t.up() #펜을 든다\n",
        "  t.goto(x, y) #(x,y)로 이동\n",
        "  t.down() #펜을 내려놓는다\n",
        "  t.begin_fill() #색을 채운다\n",
        "  t.color(c) #색을 c로 한다\n",
        "  for i in range(4): #4번 반복\n",
        "    t.fd(50) #앞으로50\n",
        "    t.left(90) #왼쪽으로90도만큼돈다\n",
        "  t.end_fill() #색 채우기를 끝낸다\n",
        "\n",
        "for c in [\"yellow\", \"red\", \"purple\", \"blue\",]: # yellow,red,purple,blue 색을 순서대로 c에 입력한다\n",
        "  draw_sqare(c) #함수를출력한다"
      ],
      "metadata": {
        "id": "Jigq5M-ToHk-"
      },
      "execution_count": null,
      "outputs": []
    },
    {
      "cell_type": "code",
      "source": [
        "import turtle as t  #turtle모듈을 불러오고 그걸 t로 정한다.   #5번\n",
        "import random #random 모듈을 불러온다\n",
        "\n",
        "def draw_shape(color, n, lenght, x, y):  # 인수가 color, n, lenght, x, y 인 함수를 생성\n",
        "  t.up() #펜을 든다\n",
        "  t.goto(x, y) #(x,y)로 이동\n",
        "  t.down() #펜을 내려놓는다\n",
        "  t.begin_fill() #색dmfcodnsek\n",
        "  t.color(color) #색을 color로 한다\n",
        "  for i in range(n): #n번 반복\n",
        "    t.fd(lenght) #앞으로lenght\n",
        "    t.left(360/n) #왼쪽으로 360/n도 만큼돈다\n",
        "  t.end_fill() #색 채우기 끝\n",
        "\n",
        "for i in range(5): #5번 반복\n",
        "  x = random.randint(0,100)  #0부터 100사이의 난수를 변수로 받는다\n",
        "  y = random.randint(0,100)  #0부터 100사이의 난수를 변수로 받는다\n",
        "  c = random.choice([\"yellow\", \"red\", \"purple\", \"blue\",])  # yellow,red,purple,blue 색을 랜덤으로 골라 변수로 받는다\n",
        "  n = random.randint(3, 10)  #3부터 10사이의 난수를 변수로 받는다\n",
        "  len = random.randint(10, 50) #10부터 50사이의 난수를 변수로 받는다\n",
        "  draw_shape(c, n, len, x, y) #함수를출력한다"
      ],
      "metadata": {
        "id": "8z8v0rZpqqHC"
      },
      "execution_count": null,
      "outputs": []
    },
    {
      "cell_type": "code",
      "source": [
        "import turtle as t  # 6qjs turtle모듈을 불러오고 그걸 t로 정한다.  \n",
        "import random #random 모듈을 불러온다\n",
        "s=t.Screen(); s.bgcolor(\"black\") #바탕을 검은색으로\n",
        "\n",
        "def draw_star(color, length, x, y): # 인수가 color, lenght, x, y 인 함수를 생성\n",
        "  t.up() #펜을 든다\n",
        "  t.goto(x, y) #(x,y)로 이동\n",
        "  t.down() #펜을 내려놓는다\n",
        "  t.begin_fill() #색을 채운다\n",
        "  t.color(color) #색을 color로 한다\n",
        "  for i in range(5): #n번 반복\n",
        "    t.fd(lenght) #앞으로lenght\n",
        "    t.rt(144) #오른쪽으로 144 도 만큼돈다\n",
        "  t.end_fill() #색 채우기를 끝낸다 \n",
        "\n",
        "for i in range(10): #10번 반복\n",
        "  x = random.randint(-100,100)  #-100부터 100사이의 난수를 변수로 받는다\n",
        "  y = random.randint(-100,100)  #-100부터 100사이의 난수를 변수로 받는다\n",
        "  c = random.choice([\"yellow\", \"red\", \"purple\", \"blue\",\"white\",\"green\"])  # y,r,p,b,w,g 색을 랜덤으로 골라 변수로 받는다\n",
        "  n = random.randint(3, 10)  #3부터 10사이의 난수를 변수로 받는다\n",
        "  len = random.randint(10, 50) #10부터 50사이의 난수를 변수로 받는다\n",
        "  draw_shape(c, len, x, y) #함수를출력한다"
      ],
      "metadata": {
        "id": "CrNC4D0IqqKp"
      },
      "execution_count": null,
      "outputs": []
    },
    {
      "cell_type": "code",
      "source": [
        "domain ={\"kr\" : \"대한민국\",\"sk\" : \"슬로바키아\",\"no\" : \"노르웨이\",\"us\":\"미국\",\"jp\":\"일본\",\"hu\":\"헝가리\",\"de\":\"독일\"} #딕셔너리 생성  #7번 \n",
        "for k, v in domain.items(): #딕셔너리를 k, v에 순서대로 입력\n",
        "  print(k,\":\",v) "
      ],
      "metadata": {
        "id": "sfmXWcjJuBed"
      },
      "execution_count": null,
      "outputs": []
    },
    {
      "cell_type": "code",
      "source": [
        "problem = {'파이썬':'최근에 가장 떠오르는 프로그래밍 언어','변수':'데이터를 저장하는 메모리 공간','함수':'작업을 수행하는 문장들의 집합에 이름을 불인것','리스트':'서로 관련이 없는 항목듈의 모임'}\n",
        "# 딕셔너리 생성 #8번 \n",
        "for ward in problem.keys(): #딕셔너리의 key ward에 순서대로 입력\n",
        "  print(\"다음은 어떤단어의 대한 설명일까요?\") \n",
        "  print(problem[ward]) #딕셔너리의 값을 출력\n",
        "  print(\"(1) 파이썬 (2) 변수 (3) 함수 (4) 리스트\")\n",
        "  answer = 0\n",
        "  while ward != answer: #ward와 answer이 다를 때\n",
        "    answer = input() #변수의 값을 받는다\n",
        "    if ward !=answer:  #만약 ward와 answer이 다를때 \n",
        "      print(\"틀렸습니다\")\n",
        "  print(\"정답입니다!\")"
      ],
      "metadata": {
        "id": "Nfj985fGrCFf"
      },
      "execution_count": null,
      "outputs": []
    }
  ]
}