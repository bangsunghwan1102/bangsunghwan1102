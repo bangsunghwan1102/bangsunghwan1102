{
  "nbformat": 4,
  "nbformat_minor": 0,
  "metadata": {
    "colab": {
      "name": "파이썬 3장.ipynb",
      "provenance": [],
      "collapsed_sections": [],
      "authorship_tag": "ABX9TyOGU86P4seKgtpXVOzwoKty",
      "include_colab_link": true
    },
    "kernelspec": {
      "name": "python3",
      "display_name": "Python 3"
    },
    "language_info": {
      "name": "python"
    }
  },
  "cells": [
    {
      "cell_type": "markdown",
      "metadata": {
        "id": "view-in-github",
        "colab_type": "text"
      },
      "source": [
        "<a href=\"https://colab.research.google.com/github/bangsunghwan1102/bangsunghwan1102/blob/main/%ED%8C%8C%EC%9D%B4%EC%8D%AC_3%EC%9E%A5.ipynb\" target=\"_parent\"><img src=\"https://colab.research.google.com/assets/colab-badge.svg\" alt=\"Open In Colab\"/></a>"
      ]
    },
    {
      "cell_type": "markdown",
      "metadata": {
        "id": "koTt-BMDTWIt"
      },
      "source": [
        "도전문제\n"
      ]
    },
    {
      "cell_type": "code",
      "metadata": {
        "colab": {
          "base_uri": "https://localhost:8080/"
        },
        "id": "JfLMY6NKTTnN",
        "outputId": "65c6f186-3c23-41c9-fb22-a22601819830"
      },
      "source": [
        "total = 10000\n",
        "ame_p = 2000\n",
        "cafe_p = 3000\n",
        "capu_p = 3500 \n",
        "\n",
        "ames = int(input(\"아메리카노 판매 개수:\"))\n",
        "cafes = int(input(\"카페라떼 판매 개수:\"))\n",
        "capus = int(input(\"카푸치노 판매 개수:\"))\n",
        "\n",
        "ame_s = ames * ame_p \n",
        "cafe_s = cafes * cafe_p\n",
        "capu_s = capus * capu_p\n",
        "sales = ame_s + cafe_s + capu_s\n",
        "print(\"총 매출은\", sales, \"입니다.\")\n",
        "\n",
        "if (total > sales) : print(\"적자 입니다.\")\n",
        "else : print(\"흑자입니다.\")"
      ],
      "execution_count": null,
      "outputs": [
        {
          "output_type": "stream",
          "name": "stdout",
          "text": [
            "아메리카노 판매 개수:50\n",
            "카페라떼 판매 개수:60\n",
            "카푸치노 판매 개수:70\n",
            "총 매출은 525000 입니다.\n",
            "흑자입니다.\n"
          ]
        }
      ]
    },
    {
      "cell_type": "code",
      "metadata": {
        "colab": {
          "base_uri": "https://localhost:8080/"
        },
        "id": "GbRS0elHT8et",
        "outputId": "9b44aa01-b26b-4e79-bb8a-7d2ab900a967"
      },
      "source": [
        "ctemp = int(input(\"섭씨 온도:\"))\n",
        "ftemp = 9/5 * ctemp + 32\n",
        "print(\"화씨온도:\", ftemp)"
      ],
      "execution_count": null,
      "outputs": [
        {
          "output_type": "stream",
          "name": "stdout",
          "text": [
            "섭씨 온도:50\n",
            "화씨온도: 122.0\n"
          ]
        }
      ]
    },
    {
      "cell_type": "code",
      "metadata": {
        "colab": {
          "base_uri": "https://localhost:8080/"
        },
        "id": "dv7l5k7hT8lN",
        "outputId": "f612195c-18f1-445a-b4b2-c00d81d07297"
      },
      "source": [
        "money = int(input(\"투입한 돈:\"))\n",
        "price = int(input(\"물건 값:\"))\n",
        "change = money - price   # 거스름돈\n",
        "print(\"거스름돈:\", change)\n",
        "c500 = change // 500\n",
        "change = change % 500\n",
        "c100 = change // 100\n",
        "change = change % 100\n",
        "c50 = change // 50\n",
        "change = change % 50\n",
        "c10 = change // 10\n",
        "print(\"500원 동전의 개수:\", c500) \n",
        "print(\"100원 동전의 개수:\", c100) \n",
        "print(\"50원 동전의 개수:\", c50) \n",
        "print(\"10원 동전의 개수:\", c10)"
      ],
      "execution_count": null,
      "outputs": [
        {
          "output_type": "stream",
          "name": "stdout",
          "text": [
            "투입한 돈:10000\n",
            "물건 값:8000\n",
            "거스름돈: 2000\n",
            "500원 동전의 개수: 4\n",
            "100원 동전의 개수: 0\n",
            "50원 동전의 개수: 0\n",
            "10원 동전의 개수: 0\n"
          ]
        }
      ]
    },
    {
      "cell_type": "markdown",
      "metadata": {
        "id": "gVwfZRbiUVoX"
      },
      "source": [
        "연습문제\n"
      ]
    },
    {
      "cell_type": "code",
      "metadata": {
        "colab": {
          "base_uri": "https://localhost:8080/"
        },
        "id": "nrf6zxyYT8oZ",
        "outputId": "c6819586-0f87-423b-c3b9-f5b30a5c87f7"
      },
      "source": [
        "x = int(input(\"x:\")) #1번문제 \n",
        "y = int(input(\"y:\"))\n",
        "\n",
        "print(\"두수의 합:\", x + y)\n",
        "print(\"두수의 차:\", x - y)\n",
        "print(\"두수의 곱:\", x * y)\n",
        "print(\"두수의 평균:\", (x + y)/2 )\n",
        "print(\"큰수:\", max(x, y))\n",
        "print(\"작은수:\", min(x, y))"
      ],
      "execution_count": null,
      "outputs": [
        {
          "output_type": "stream",
          "name": "stdout",
          "text": [
            "x:50\n",
            "y:60\n",
            "두수의 합: 110\n",
            "두수의 차: -10\n",
            "두수의 곱: 3000\n",
            "두수의 평균: 55.0\n",
            "큰수: 60\n",
            "작은수: 50\n"
          ]
        }
      ]
    },
    {
      "cell_type": "code",
      "metadata": {
        "colab": {
          "base_uri": "https://localhost:8080/"
        },
        "id": "XTqfuy19T8s7",
        "outputId": "c5e585c5-61b9-46a9-d3fd-f1451828cf87"
      },
      "source": [
        "r = int(input(\"r:\")) #2번문제 \n",
        "h = int(input(\"h:\"))\n",
        "vol = 3.141592 * (r**2) * h #원기둥 부피공식\n",
        "print(\"원기둥의 부피:\", vol)"
      ],
      "execution_count": null,
      "outputs": [
        {
          "output_type": "stream",
          "name": "stdout",
          "text": [
            "r:10\n",
            "h:20\n",
            "원기둥의 부피: 6283.184\n"
          ]
        }
      ]
    },
    {
      "cell_type": "code",
      "metadata": {
        "colab": {
          "base_uri": "https://localhost:8080/"
        },
        "id": "BhW59i1DT8wo",
        "outputId": "f3554ee1-2179-4ea0-9808-fc21430eb94f"
      },
      "source": [
        "x = int(input(\"정수를 입력하시오:\")) #3번문제 \n",
        "\n",
        "n1000 = x // 1000\n",
        "x = x % 1000\n",
        "n100 = x // 100\n",
        "x = x % 100\n",
        "n10 = x // 10\n",
        "x = x % 10\n",
        "n1 = x % 10\n",
        "print(\"자리수의 합:\", n1000 + n100 + n10 + n1)"
      ],
      "execution_count": null,
      "outputs": [
        {
          "output_type": "stream",
          "name": "stdout",
          "text": [
            "정수를 입력하시오:123456789\n",
            "자리수의 합: 123480\n"
          ]
        }
      ]
    },
    {
      "cell_type": "code",
      "metadata": {
        "colab": {
          "base_uri": "https://localhost:8080/"
        },
        "id": "AYlOemH6UrXK",
        "outputId": "8be8343a-d9a1-46eb-906a-5a661b9c3c80"
      },
      "source": [
        "x1 = int(input(\"x1:\")) #4번문제 \n",
        "y1 = int(input(\"y1:\"))\n",
        "x2 = int(input(\"x2:\"))\n",
        "y2 = int(input(\"y2:\"))\n",
        "l = (((x2 - x1)**2) +((y2 - y1)**2))**0.5\n",
        "print(\"두점 사이의 거리=:\", l )"
      ],
      "execution_count": null,
      "outputs": [
        {
          "output_type": "stream",
          "name": "stdout",
          "text": [
            "x1:0\n",
            "y1:0\n",
            "x2:50\n",
            "y2:50\n",
            "두점 사이의 거리=: 70.71067811865476\n"
          ]
        }
      ]
    },
    {
      "cell_type": "code",
      "metadata": {
        "id": "66bkGHl2UrzS"
      },
      "source": [
        "import turtle as t #5번문제\n",
        "t.shape(\"turtle\") # 모양은 거북이로\n",
        "t.lt(45)\n",
        "t.fd(141)\n",
        "t.setheading(0)\n",
        "t.up()\n",
        "t.goto(0,0)\n",
        "t.down()\n",
        "t.fd(100)\n",
        "t.lt(90)\n",
        "t.fd(100)"
      ],
      "execution_count": null,
      "outputs": []
    },
    {
      "cell_type": "code",
      "metadata": {
        "id": "0f2sovxnUr2V"
      },
      "source": [
        "import turtle as t #6번문제 \n",
        "t.shape(\"turtle\")\n",
        "\n",
        "x1 = 0  #4번문제  좌표 사용\n",
        "y1 = 0\n",
        "x2 = 50\n",
        "y2 = 50\n",
        "l = (((x2 - x1)**2) +((y2 - y1)**2))**0.5\n",
        "t.goto(x1,y1) \n",
        "t.goto(x2,y2)\n",
        "t.write(\"점의 길이=\" + str(l))"
      ],
      "execution_count": null,
      "outputs": []
    },
    {
      "cell_type": "code",
      "metadata": {
        "colab": {
          "base_uri": "https://localhost:8080/"
        },
        "id": "cOxMcuHEVUDy",
        "outputId": "465c93f2-d636-4c35-d83f-800ba9b59c2f"
      },
      "source": [
        "import time #7번문제 \n",
        "\n",
        "x =time.time()\n",
        "t_sec = int(x)\n",
        "t_min = t_sec // 60\n",
        "t_hour = t_min // 60\n",
        "min = t_min % 60\n",
        "hour = t_hour % 24\n",
        "\n",
        "print(\"현재 시간(영국 그리니치 시각):\", str(hour) + \"시\", str(min), \"분\")"
      ],
      "execution_count": null,
      "outputs": [
        {
          "output_type": "stream",
          "name": "stdout",
          "text": [
            "현재 시간(영국 그리니치 시각): 1시 20 분\n"
          ]
        }
      ]
    },
    {
      "cell_type": "code",
      "metadata": {
        "colab": {
          "base_uri": "https://localhost:8080/"
        },
        "id": "m5lz1eywVUGz",
        "outputId": "cfc804cf-1d1b-445f-f5f3-0e84606605fe"
      },
      "source": [
        "x = int(input(\"물체의 무게를 입력하시오(킬로그램):\")) #8번문제 \n",
        "y = int(input(\"물체의 속도를 입력하시오(미처/초)\"))\n",
        "z = 1/2 * x * y**2 \n",
        "print(\"물체는\", z ,\"줄의 에너지를 가지고 있다.\")"
      ],
      "execution_count": null,
      "outputs": [
        {
          "output_type": "stream",
          "name": "stdout",
          "text": [
            "물체의 무게를 입력하시오(킬로그램):100\n",
            "물체의 속도를 입력하시오(미처/초)100\n",
            "물체는 500000.0 줄의 에너지를 가지고 있다.\n"
          ]
        }
      ]
    }
  ]
}