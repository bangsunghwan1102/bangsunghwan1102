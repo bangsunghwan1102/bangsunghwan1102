{
  "nbformat": 4,
  "nbformat_minor": 0,
  "metadata": {
    "colab": {
      "name": "파이썬 4장.ipynb",
      "provenance": [],
      "collapsed_sections": [],
      "authorship_tag": "ABX9TyMS4kYUffwUzoTehuWGwnWM",
      "include_colab_link": true
    },
    "kernelspec": {
      "name": "python3",
      "display_name": "Python 3"
    },
    "language_info": {
      "name": "python"
    }
  },
  "cells": [
    {
      "cell_type": "markdown",
      "metadata": {
        "id": "view-in-github",
        "colab_type": "text"
      },
      "source": [
        "<a href=\"https://colab.research.google.com/github/bangsunghwan1102/bangsunghwan1102/blob/main/%ED%8C%8C%EC%9D%B4%EC%8D%AC_4%EC%9E%A5.ipynb\" target=\"_parent\"><img src=\"https://colab.research.google.com/assets/colab-badge.svg\" alt=\"Open In Colab\"/></a>"
      ]
    },
    {
      "cell_type": "markdown",
      "metadata": {
        "id": "UbsF7sPhV0a2"
      },
      "source": [
        "도전문제\n"
      ]
    },
    {
      "cell_type": "code",
      "metadata": {
        "id": "zvFklaCIVxpe"
      },
      "source": [
        "import turtle as t\n",
        "t.shape(\"turtle\")\n",
        "\n",
        "n = t.textinput(\"\",\"이름을 입력하시오:\")\n",
        "\n",
        "for i in range(4):  # 반복 4번\n",
        "    t.write(\"안녕하세요?\" + n + \"씨, 터틀 인사드립니다.\")\n",
        "    t.lt(90)\n",
        "    t.fd(100)\n",
        "    "
      ],
      "execution_count": null,
      "outputs": []
    },
    {
      "cell_type": "code",
      "metadata": {
        "colab": {
          "base_uri": "https://localhost:8080/"
        },
        "id": "4UkJDDNfWyZ0",
        "outputId": "1d994c6b-a6fc-47a1-b752-b01a94ecfd5e"
      },
      "source": [
        "print(\"안녕하세요?\")\n",
        "name = input(\"이름이 어떻게 되시나요?\")\n",
        "print(\"만나서 반갑습니다\" + name + \"씨\")\n",
        "print(\"이름의 길이는 다음과 같군요:\", end=\"\")  # end=\"\"는 다음줄로 출력하는것\n",
        "print(len(name))\n",
        "age = int(input(\"나이가 어떻게 되시나요?\"))\n",
        "print(\"내년이면\" + str(age + 1) + \"이 되시는 군요\")\n",
        "hobby = input(\"취미가 무엇인가요?\")\n",
        "print(\"네 저도\"+ hobby +\"좋아합니다.\")"
      ],
      "execution_count": null,
      "outputs": [
        {
          "output_type": "stream",
          "name": "stdout",
          "text": [
            "안녕하세요?\n",
            "이름이 어떻게 되시나요?홍길동\n",
            "만나서 반갑습니다홍길동씨\n",
            "이름의 길이는 다음과 같군요:3\n",
            "나이가 어떻게 되시나요?22\n",
            "내년이면23이 되시는 군요\n",
            "취미가 무엇인가요?롤\n",
            "네 저도롤좋아합니다.\n"
          ]
        }
      ]
    },
    {
      "cell_type": "code",
      "metadata": {
        "colab": {
          "base_uri": "https://localhost:8080/"
        },
        "id": "O1Zd50zyWycE",
        "outputId": "ce136c04-9721-4269-d61e-5a1691781296"
      },
      "source": [
        "year = input(\"오늘의 연도를 입력하시오:\")\n",
        "month = input(\"오늘의 월를 입력하시오:\")\n",
        "date = input(\"오늘의 일를 입력하시오:\")\n",
        "print(month+\"/\"+date+\"/\"+year)"
      ],
      "execution_count": null,
      "outputs": [
        {
          "output_type": "stream",
          "name": "stdout",
          "text": [
            "오늘의 연도를 입력하시오:2021\n",
            "오늘의 월를 입력하시오:10\n",
            "오늘의 일를 입력하시오:30\n",
            "10/30/2021\n"
          ]
        }
      ]
    },
    {
      "cell_type": "markdown",
      "metadata": {
        "id": "IMcDgTwXXD0q"
      },
      "source": [
        "연습문제\n"
      ]
    },
    {
      "cell_type": "code",
      "metadata": {
        "id": "21Db9BtzWyeI"
      },
      "source": [
        "'나는'+ str(12) +\"사과를 먹었다.\" # 1번"
      ],
      "execution_count": null,
      "outputs": []
    },
    {
      "cell_type": "code",
      "metadata": {
        "id": "mfnkwOErWygz"
      },
      "source": [
        "applegrape   #2번\n",
        "appleappleapple"
      ],
      "execution_count": null,
      "outputs": []
    },
    {
      "cell_type": "code",
      "metadata": {
        "colab": {
          "base_uri": "https://localhost:8080/"
        },
        "id": "vAug1HmRWyjV",
        "outputId": "d659bda3-20fa-4c70-e48f-022a65869f6c"
      },
      "source": [
        "x = input(\"문자열을 입력하시오:\") #3번\n",
        "print(x[0:2]+x[-2:])"
      ],
      "execution_count": null,
      "outputs": [
        {
          "output_type": "stream",
          "name": "stdout",
          "text": [
            "문자열을 입력하시오:python\n",
            "pyon\n"
          ]
        }
      ]
    },
    {
      "cell_type": "code",
      "metadata": {
        "colab": {
          "base_uri": "https://localhost:8080/"
        },
        "id": "QesNopTbXyR-",
        "outputId": "3967216c-bca3-4072-ec0f-7d6d31b5e859"
      },
      "source": [
        "x = input(\"문자열을 입력하시오\")  #4번\n",
        "print(x+\"하는 중\")"
      ],
      "execution_count": null,
      "outputs": [
        {
          "output_type": "stream",
          "name": "stdout",
          "text": [
            "문자열을 입력하시오python\n",
            "python하는 중\n"
          ]
        }
      ]
    },
    {
      "cell_type": "code",
      "metadata": {
        "colab": {
          "base_uri": "https://localhost:8080/"
        },
        "id": "spTlodBsXyWm",
        "outputId": "73e005ea-7ad2-4f32-de68-b3973ec047d6"
      },
      "source": [
        "x = input(\"기호를 입력하시오:\") # 5 번\n",
        "y = input(\"중간에 삽입할 문자열를 입력하시오:\")    \n",
        "z = x[0:1] + y + x[1:]\n",
        "print(z)"
      ],
      "execution_count": null,
      "outputs": [
        {
          "output_type": "stream",
          "name": "stdout",
          "text": [
            "기호를 입력하시오:()\n",
            "중간에 삽입할 문자열를 입력하시오:python\n",
            "(python)\n"
          ]
        }
      ]
    },
    {
      "cell_type": "code",
      "metadata": {
        "colab": {
          "base_uri": "https://localhost:8080/"
        },
        "id": "XfOO1HeHXyUP",
        "outputId": "b4aef6b5-1c93-4445-b56d-28b262e2dab6"
      },
      "source": [
        "list = [1, 2, 3, 4]  #6번\n",
        "tlist = list[0] + list[1] + list[2] + list[3]\n",
        "print(\"리스트=\",list)\n",
        "print(\"리스트 숫자들의 합 =\", tlist)"
      ],
      "execution_count": null,
      "outputs": [
        {
          "output_type": "stream",
          "name": "stdout",
          "text": [
            "리스트= [1, 2, 3, 4]\n",
            "리스트 숫자들의 합 = 10\n"
          ]
        }
      ]
    },
    {
      "cell_type": "code",
      "metadata": {
        "id": "1w56w141WylW"
      },
      "source": [
        "import turtle as t   #7번\n",
        "t.shape(\"turtle\")\n",
        "list = []\n",
        "c1 = input(\"색상 #1을 입력하시오:\")  #yellow\n",
        "list.append(c1)\n",
        "c2 = input(\"색상 #2을 입력하시오:\")  #red\n",
        "list.append(c2)\n",
        "c3 = input(\"색상 #3을 입력하시오:\")  #blue\n",
        "list.append(c3)\n",
        "t.fillcolor(list[0])\n",
        "t.begin_fill()\n",
        "t.circle(50)\n",
        "t.end_fill()\n",
        "t.up()\n",
        "t.goto(100,0)\n",
        "t.down()\n",
        "t.fillcolor(list[1])\n",
        "t.begin_fill()\n",
        "t.circle(50)\n",
        "t.end_fill()\n",
        "t.up()\n",
        "t.goto(200,0)\n",
        "t.down()\n",
        "t.fillcolor(list[2])\n",
        "t.begin_fill()\n",
        "t.circle(50)\n",
        "t.end_fill()"
      ],
      "execution_count": null,
      "outputs": []
    },
    {
      "cell_type": "code",
      "metadata": {
        "id": "CyewJYnZYgYb"
      },
      "source": [
        "import turtle as t   #8번\n",
        "t.shape(\"turtle\")\n",
        "list = []\n",
        "list.append(int(input(\"x1:\")))\n",
        "list.append(int(input(\"y1:\")))\n",
        "list.append(int(input(\"x2:\")))\n",
        "list.append(int(input(\"y2:\")))\n",
        "list.append(int(input(\"x3:\")))\n",
        "list.append(int(input(\"y3:\")))\n",
        "\n",
        "t.goto(list[0],list[1])\n",
        "t.goto(list[2],list[3])\n",
        "t.goto(list[4],list[5])"
      ],
      "execution_count": null,
      "outputs": []
    }
  ]
}